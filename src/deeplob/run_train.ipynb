{
  "cells": [
    {
      "cell_type": "markdown",
      "id": "5b1cd8e2",
      "metadata": {
        "id": "5b1cd8e2"
      },
      "source": [
        "# DeepLOB: Deep Convolutional Neural Networks for Limit Order Books\n",
        "\n",
        "### Authors: Zihao Zhang, Stefan Zohren and Stephen Roberts\n",
        "Oxford-Man Institute of Quantitative Finance, Department of Engineering Science, University of Oxford\n",
        "\n",
        "This jupyter notebook is used to demonstrate our recent paper [2] published in IEEE Transactions on Singal Processing. We use FI-2010 [1] dataset and present how model architecture is constructed here.\n",
        "\n",
        "### Data:\n",
        "The FI-2010 is publicly avilable and interested readers can check out their paper [1]. The dataset can be downloaded from: https://etsin.fairdata.fi/dataset/73eb48d7-4dbc-4a10-a52a-da745b47a649\n",
        "\n",
        "Otherwise, the notebook will download the data automatically or it can be obtained from:\n",
        "\n",
        "https://drive.google.com/drive/folders/1Xen3aRid9ZZhFqJRgEMyETNazk02cNmv?usp=sharing\n",
        "\n",
        "### References:\n",
        "[1] Ntakaris A, Magris M, Kanniainen J, Gabbouj M, Iosifidis A. Benchmark dataset for mid‐price forecasting of limit order book data with machine learning methods. Journal of Forecasting. 2018 Dec;37(8):852-66. https://arxiv.org/abs/1705.03233\n",
        "\n",
        "[2] Zhang Z, Zohren S, Roberts S. DeepLOB: Deep convolutional neural networks for limit order books. IEEE Transactions on Signal Processing. 2019 Mar 25;67(11):3001-12. https://arxiv.org/abs/1808.03668\n",
        "\n",
        "### This notebook runs on Pytorch 1.9.0."
      ]
    },
    {
      "cell_type": "code",
      "execution_count": null,
      "id": "55d6456f",
      "metadata": {
        "id": "55d6456f",
        "outputId": "acb36d3a-874b-4afc-d5bf-40a6c8b2201e"
      },
      "outputs": [
        {
          "name": "stdout",
          "output_type": "stream",
          "text": [
            "--2021-07-14 21:34:50--  https://raw.githubusercontent.com/zcakhaa/DeepLOB-Deep-Convolutional-Neural-Networks-for-Limit-Order-Books/master/data/data.zip\n",
            "Resolving raw.githubusercontent.com (raw.githubusercontent.com)... 185.199.108.133, 185.199.110.133, 185.199.111.133, ...\n",
            "Connecting to raw.githubusercontent.com (raw.githubusercontent.com)|185.199.108.133|:443... connected.\n",
            "HTTP request sent, awaiting response... 200 OK\n",
            "Length: 56278154 (54M) [application/zip]\n",
            "Saving to: ‘data.zip’\n",
            "\n",
            "data.zip            100%[===================>]  53.67M  67.1MB/s    in 0.8s    \n",
            "\n",
            "2021-07-14 21:34:52 (67.1 MB/s) - ‘data.zip’ saved [56278154/56278154]\n",
            "\n",
            "Archive:  data.zip\n",
            "  inflating: Test_Dst_NoAuction_DecPre_CF_7.txt  \n",
            "  inflating: Test_Dst_NoAuction_DecPre_CF_9.txt  \n",
            "  inflating: Test_Dst_NoAuction_DecPre_CF_8.txt  \n",
            "  inflating: Train_Dst_NoAuction_DecPre_CF_7.txt  \n",
            "data downloaded.\n"
          ]
        }
      ],
      "source": [
        "\"\"\"\n",
        "import os\n",
        "if not os.path.isfile('data.zip'):\n",
        "    !wget https://raw.githubusercontent.com/zcakhaa/DeepLOB-Deep-Convolutional-Neural-Networks-for-Limit-Order-Books/master/data/data.zip\n",
        "    !unzip -n data.zip\n",
        "    print('data downloaded.')\n",
        "else:\n",
        "    print('data already existed.')\n",
        "\"\"\""
      ]
    },
    {
      "cell_type": "code",
      "execution_count": 2,
      "id": "7bdc4f71-e97f-4e6f-9f50-993c93a025db",
      "metadata": {
        "colab": {
          "base_uri": "https://localhost:8080/"
        },
        "id": "7bdc4f71-e97f-4e6f-9f50-993c93a025db",
        "outputId": "43c38f53-919f-4214-93b9-99b722dbe767"
      },
      "outputs": [
        {
          "name": "stdout",
          "output_type": "stream",
          "text": [
            "Collecting torchinfo\n",
            "  Downloading torchinfo-1.8.0-py3-none-any.whl.metadata (21 kB)\n",
            "Downloading torchinfo-1.8.0-py3-none-any.whl (23 kB)\n",
            "Installing collected packages: torchinfo\n",
            "Successfully installed torchinfo-1.8.0\n"
          ]
        }
      ],
      "source": [
        "!pip install torchinfo"
      ]
    },
    {
      "cell_type": "code",
      "execution_count": 3,
      "id": "2d74feef",
      "metadata": {
        "id": "2d74feef"
      },
      "outputs": [],
      "source": [
        "# load packages\n",
        "import pandas as pd\n",
        "import pickle\n",
        "import numpy as np\n",
        "import matplotlib.pyplot as plt\n",
        "from datetime import datetime\n",
        "from tqdm import tqdm\n",
        "from sklearn.metrics import accuracy_score, classification_report\n",
        "\n",
        "import torch\n",
        "import torch.nn.functional as F\n",
        "from torch.utils import data\n",
        "from torchinfo import summary\n",
        "import torch.nn as nn\n",
        "import torch.optim as optim\n",
        "# from sklearn.model_selection import train_test_split\n",
        "# X_train, X_test, y_train, y_test = train_test_split(data.data, data.target, test_size=0.33)\n",
        "# N, D = X_train.shape"
      ]
    },
    {
      "cell_type": "code",
      "execution_count": 4,
      "id": "205e090f",
      "metadata": {
        "colab": {
          "base_uri": "https://localhost:8080/"
        },
        "id": "205e090f",
        "outputId": "0785cb9e-6e15-45a0-cc07-e4ba1f874a4a"
      },
      "outputs": [
        {
          "name": "stdout",
          "output_type": "stream",
          "text": [
            "cuda:0\n"
          ]
        }
      ],
      "source": [
        "device = torch.device(\"cuda:0\" if torch.cuda.is_available() else \"cpu\")\n",
        "print(device)"
      ]
    },
    {
      "cell_type": "code",
      "execution_count": null,
      "id": "a5d5b0b5",
      "metadata": {
        "id": "a5d5b0b5"
      },
      "outputs": [],
      "source": [
        "\"\"\"\n",
        "def prepare_x(data):\n",
        "    df1 = data[:40, :].T\n",
        "    return np.array(df1)\n",
        "\n",
        "def get_label(data):\n",
        "    lob = data[-5:, :].T\n",
        "    return lob\n",
        "\n",
        "def data_classification(X, Y, T):\n",
        "    [N, D] = X.shape\n",
        "    df = np.array(X)\n",
        "\n",
        "    dY = np.array(Y)\n",
        "\n",
        "    dataY = dY[T - 1:N]\n",
        "\n",
        "    dataX = np.zeros((N - T + 1, T, D))\n",
        "    for i in range(T, N + 1):\n",
        "        dataX[i - T] = df[i - T:i, :]\n",
        "\n",
        "    return dataX, dataY\n",
        "\n",
        "def torch_data(x, y):\n",
        "    x = torch.from_numpy(x)\n",
        "    x = torch.unsqueeze(x, 1)\n",
        "    y = torch.from_numpy(y)\n",
        "    y = F.one_hot(y, num_classes=3)\n",
        "    return x, y\n",
        "\"\"\""
      ]
    },
    {
      "cell_type": "code",
      "execution_count": null,
      "id": "72848ecf-2727-4d40-9bf1-7e53d45962cc",
      "metadata": {
        "id": "72848ecf-2727-4d40-9bf1-7e53d45962cc"
      },
      "outputs": [],
      "source": [
        "###################### 수정\n",
        "import numpy as np\n",
        "\n",
        "### Feature와 레이블 분리\n",
        "def prepare_x_from_df(df):\n",
        "    features = [col for col in df.columns if ('bid_' in col or 'ask_' in col)]\n",
        "    return df[features].values.astype(np.float32)\n",
        "\n",
        "\n",
        "def get_label_from_df(df):\n",
        "    return df['label'].astype(int).values\n",
        "\n",
        "def data_classification(X, Y, T):\n",
        "    N, D = X.shape\n",
        "    dataX = np.zeros((N - T + 1, T, D), dtype=np.float32)\n",
        "    dataY = Y[T - 1:N]\n",
        "\n",
        "    for i in range(T, N + 1):\n",
        "        dataX[i - T] = X[i - T:i, :]\n",
        "\n",
        "    return dataX, dataY\n",
        "\n",
        "def torch_data(x, y):\n",
        "    x = torch.from_numpy(x).float()\n",
        "    x = torch.unsqueeze(x, 1)  # (N, 1, T, D)\n",
        "    y = torch.from_numpy(y).long()  # 정수 레이블\n",
        "    return x, y\n"
      ]
    },
    {
      "cell_type": "code",
      "execution_count": null,
      "id": "ba822642",
      "metadata": {
        "id": "ba822642"
      },
      "outputs": [],
      "source": [
        "\"\"\"\n",
        "class Dataset(data.Dataset):\n",
        "    \"\"\"Characterizes a dataset for PyTorch\"\"\"\n",
        "    def __init__(self, data, k, num_classes, T):\n",
        "        \"\"\"Initialization\"\"\"\n",
        "        self.k = k\n",
        "        self.num_classes = num_classes\n",
        "        self.T = T\n",
        "\n",
        "        x = prepare_x(data)\n",
        "        y = get_label(data)\n",
        "        x, y = data_classification(x, y, self.T)\n",
        "        y = y[:,self.k] - 1\n",
        "        self.length = len(x)\n",
        "\n",
        "        x = torch.from_numpy(x)\n",
        "        self.x = torch.unsqueeze(x, 1)\n",
        "        self.y = torch.from_numpy(y)\n",
        "\n",
        "    def __len__(self):\n",
        "        \"\"\"Denotes the total number of samples\"\"\"\n",
        "        return self.length\n",
        "\n",
        "    def __getitem__(self, index):\n",
        "        \"\"\"Generates samples of data\"\"\"\n",
        "        return self.x[index], self.y[index]\n",
        "\"\"\""
      ]
    },
    {
      "cell_type": "code",
      "execution_count": 6,
      "id": "aa7e13f8-e28c-40a6-a999-3b5dd91d376c",
      "metadata": {
        "id": "aa7e13f8-e28c-40a6-a999-3b5dd91d376c"
      },
      "outputs": [],
      "source": [
        "######### 수정\n",
        "class LOBDataset(data.Dataset):\n",
        "    def __init__(self, df, T):\n",
        "        self.T = T\n",
        "\n",
        "        # 전처리\n",
        "        x_all = prepare_x_from_df(df)     # shape: (N, D)\n",
        "        y_all = get_label_from_df(df)     # shape: (N,)\n",
        "        x_seq, y_seq = data_classification(x_all, y_all, self.T)  # (N-T+1, T, D), (N-T+1,)\n",
        "\n",
        "        # Tensor로 변환\n",
        "        self.x = torch.from_numpy(x_seq).unsqueeze(1).float()     # shape: (N, 1, T, D)\n",
        "        self.y = torch.from_numpy(y_seq).long()                   # shape: (N,)\n",
        "\n",
        "        self.length = len(self.x)\n",
        "\n",
        "        self.num_classes = len(np.unique(y_seq))\n",
        "\n",
        "    def __len__(self):\n",
        "        return self.length\n",
        "\n",
        "    def __getitem__(self, index):\n",
        "        return self.x[index], self.y[index]\n"
      ]
    },
    {
      "cell_type": "markdown",
      "id": "5ff0b9f9",
      "metadata": {
        "id": "5ff0b9f9"
      },
      "source": [
        "# Data preparation\n",
        "\n",
        "We used no auction dataset that is normalised by decimal precision approach in their work. The first seven days are training data and the last three days are testing data. A validation set (20%) from the training set is used to monitor the overfitting behaviours.  \n",
        "\n",
        "The first 40 columns of the FI-2010 dataset are 10 levels ask and bid information for a limit order book and we only use these 40 features in our network. The last 5 columns of the FI-2010 dataset are the labels with different prediction horizons."
      ]
    },
    {
      "cell_type": "code",
      "execution_count": null,
      "id": "c11fb134",
      "metadata": {
        "id": "c11fb134",
        "outputId": "04714f79-0fbb-4902-b2b9-b70b71f7ed2f"
      },
      "outputs": [
        {
          "name": "stdout",
          "output_type": "stream",
          "text": [
            "(149, 203800) (149, 50950) (149, 139587)\n"
          ]
        }
      ],
      "source": [
        "\"\"\"\n",
        "# please change the data_path to your local path\n",
        "# data_path = '/nfs/home/zihaoz/limit_order_book/data'\n",
        "\n",
        "dec_data = np.loadtxt('Train_Dst_NoAuction_DecPre_CF_7.txt')\n",
        "dec_train = dec_data[:, :int(np.floor(dec_data.shape[1] * 0.8))]\n",
        "dec_val = dec_data[:, int(np.floor(dec_data.shape[1] * 0.8)):]\n",
        "\n",
        "dec_test1 = np.loadtxt('Test_Dst_NoAuction_DecPre_CF_7.txt')\n",
        "dec_test2 = np.loadtxt('Test_Dst_NoAuction_DecPre_CF_8.txt')\n",
        "dec_test3 = np.loadtxt('Test_Dst_NoAuction_DecPre_CF_9.txt')\n",
        "dec_test = np.hstack((dec_test1, dec_test2, dec_test3))\n",
        "\n",
        "print(dec_train.shape, dec_val.shape, dec_test.shape)\n",
        "\"\"\""
      ]
    },
    {
      "cell_type": "code",
      "execution_count": null,
      "id": "ad5b734f",
      "metadata": {
        "id": "ad5b734f",
        "outputId": "4f117214-28a2-49a7-8934-b1452f4e8761"
      },
      "outputs": [
        {
          "name": "stdout",
          "output_type": "stream",
          "text": [
            "torch.Size([203701, 1, 100, 40]) torch.Size([203701])\n"
          ]
        }
      ],
      "source": [
        "\"\"\"\n",
        "batch_size = 64\n",
        "\n",
        "dataset_train = Dataset(data=dec_train, k=4, num_classes=3, T=100)\n",
        "dataset_val = Dataset(data=dec_val, k=4, num_classes=3, T=100)\n",
        "dataset_test = Dataset(data=dec_test, k=4, num_classes=3, T=100)\n",
        "\n",
        "train_loader = torch.utils.data.DataLoader(dataset=dataset_train, batch_size=batch_size, shuffle=True)\n",
        "val_loader = torch.utils.data.DataLoader(dataset=dataset_val, batch_size=batch_size, shuffle=False)\n",
        "test_loader = torch.utils.data.DataLoader(dataset=dataset_test, batch_size=batch_size, shuffle=False)\n",
        "\n",
        "print(dataset_train.x.shape, dataset_train.y.shape)\n",
        "\"\"\""
      ]
    },
    {
      "cell_type": "code",
      "execution_count": 7,
      "id": "ycrStQlHjTqn",
      "metadata": {
        "colab": {
          "base_uri": "https://localhost:8080/",
          "height": 114
        },
        "id": "ycrStQlHjTqn",
        "outputId": "815a035e-9630-4e9a-978d-df2f3818f19f"
      },
      "outputs": [
        {
          "data": {
            "text/html": [
              "\n",
              "     <input type=\"file\" id=\"files-fe4b4915-d8a0-44b9-aa32-4da47853435c\" name=\"files[]\" multiple disabled\n",
              "        style=\"border:none\" />\n",
              "     <output id=\"result-fe4b4915-d8a0-44b9-aa32-4da47853435c\">\n",
              "      Upload widget is only available when the cell has been executed in the\n",
              "      current browser session. Please rerun this cell to enable.\n",
              "      </output>\n",
              "      <script>// Copyright 2017 Google LLC\n",
              "//\n",
              "// Licensed under the Apache License, Version 2.0 (the \"License\");\n",
              "// you may not use this file except in compliance with the License.\n",
              "// You may obtain a copy of the License at\n",
              "//\n",
              "//      http://www.apache.org/licenses/LICENSE-2.0\n",
              "//\n",
              "// Unless required by applicable law or agreed to in writing, software\n",
              "// distributed under the License is distributed on an \"AS IS\" BASIS,\n",
              "// WITHOUT WARRANTIES OR CONDITIONS OF ANY KIND, either express or implied.\n",
              "// See the License for the specific language governing permissions and\n",
              "// limitations under the License.\n",
              "\n",
              "/**\n",
              " * @fileoverview Helpers for google.colab Python module.\n",
              " */\n",
              "(function(scope) {\n",
              "function span(text, styleAttributes = {}) {\n",
              "  const element = document.createElement('span');\n",
              "  element.textContent = text;\n",
              "  for (const key of Object.keys(styleAttributes)) {\n",
              "    element.style[key] = styleAttributes[key];\n",
              "  }\n",
              "  return element;\n",
              "}\n",
              "\n",
              "// Max number of bytes which will be uploaded at a time.\n",
              "const MAX_PAYLOAD_SIZE = 100 * 1024;\n",
              "\n",
              "function _uploadFiles(inputId, outputId) {\n",
              "  const steps = uploadFilesStep(inputId, outputId);\n",
              "  const outputElement = document.getElementById(outputId);\n",
              "  // Cache steps on the outputElement to make it available for the next call\n",
              "  // to uploadFilesContinue from Python.\n",
              "  outputElement.steps = steps;\n",
              "\n",
              "  return _uploadFilesContinue(outputId);\n",
              "}\n",
              "\n",
              "// This is roughly an async generator (not supported in the browser yet),\n",
              "// where there are multiple asynchronous steps and the Python side is going\n",
              "// to poll for completion of each step.\n",
              "// This uses a Promise to block the python side on completion of each step,\n",
              "// then passes the result of the previous step as the input to the next step.\n",
              "function _uploadFilesContinue(outputId) {\n",
              "  const outputElement = document.getElementById(outputId);\n",
              "  const steps = outputElement.steps;\n",
              "\n",
              "  const next = steps.next(outputElement.lastPromiseValue);\n",
              "  return Promise.resolve(next.value.promise).then((value) => {\n",
              "    // Cache the last promise value to make it available to the next\n",
              "    // step of the generator.\n",
              "    outputElement.lastPromiseValue = value;\n",
              "    return next.value.response;\n",
              "  });\n",
              "}\n",
              "\n",
              "/**\n",
              " * Generator function which is called between each async step of the upload\n",
              " * process.\n",
              " * @param {string} inputId Element ID of the input file picker element.\n",
              " * @param {string} outputId Element ID of the output display.\n",
              " * @return {!Iterable<!Object>} Iterable of next steps.\n",
              " */\n",
              "function* uploadFilesStep(inputId, outputId) {\n",
              "  const inputElement = document.getElementById(inputId);\n",
              "  inputElement.disabled = false;\n",
              "\n",
              "  const outputElement = document.getElementById(outputId);\n",
              "  outputElement.innerHTML = '';\n",
              "\n",
              "  const pickedPromise = new Promise((resolve) => {\n",
              "    inputElement.addEventListener('change', (e) => {\n",
              "      resolve(e.target.files);\n",
              "    });\n",
              "  });\n",
              "\n",
              "  const cancel = document.createElement('button');\n",
              "  inputElement.parentElement.appendChild(cancel);\n",
              "  cancel.textContent = 'Cancel upload';\n",
              "  const cancelPromise = new Promise((resolve) => {\n",
              "    cancel.onclick = () => {\n",
              "      resolve(null);\n",
              "    };\n",
              "  });\n",
              "\n",
              "  // Wait for the user to pick the files.\n",
              "  const files = yield {\n",
              "    promise: Promise.race([pickedPromise, cancelPromise]),\n",
              "    response: {\n",
              "      action: 'starting',\n",
              "    }\n",
              "  };\n",
              "\n",
              "  cancel.remove();\n",
              "\n",
              "  // Disable the input element since further picks are not allowed.\n",
              "  inputElement.disabled = true;\n",
              "\n",
              "  if (!files) {\n",
              "    return {\n",
              "      response: {\n",
              "        action: 'complete',\n",
              "      }\n",
              "    };\n",
              "  }\n",
              "\n",
              "  for (const file of files) {\n",
              "    const li = document.createElement('li');\n",
              "    li.append(span(file.name, {fontWeight: 'bold'}));\n",
              "    li.append(span(\n",
              "        `(${file.type || 'n/a'}) - ${file.size} bytes, ` +\n",
              "        `last modified: ${\n",
              "            file.lastModifiedDate ? file.lastModifiedDate.toLocaleDateString() :\n",
              "                                    'n/a'} - `));\n",
              "    const percent = span('0% done');\n",
              "    li.appendChild(percent);\n",
              "\n",
              "    outputElement.appendChild(li);\n",
              "\n",
              "    const fileDataPromise = new Promise((resolve) => {\n",
              "      const reader = new FileReader();\n",
              "      reader.onload = (e) => {\n",
              "        resolve(e.target.result);\n",
              "      };\n",
              "      reader.readAsArrayBuffer(file);\n",
              "    });\n",
              "    // Wait for the data to be ready.\n",
              "    let fileData = yield {\n",
              "      promise: fileDataPromise,\n",
              "      response: {\n",
              "        action: 'continue',\n",
              "      }\n",
              "    };\n",
              "\n",
              "    // Use a chunked sending to avoid message size limits. See b/62115660.\n",
              "    let position = 0;\n",
              "    do {\n",
              "      const length = Math.min(fileData.byteLength - position, MAX_PAYLOAD_SIZE);\n",
              "      const chunk = new Uint8Array(fileData, position, length);\n",
              "      position += length;\n",
              "\n",
              "      const base64 = btoa(String.fromCharCode.apply(null, chunk));\n",
              "      yield {\n",
              "        response: {\n",
              "          action: 'append',\n",
              "          file: file.name,\n",
              "          data: base64,\n",
              "        },\n",
              "      };\n",
              "\n",
              "      let percentDone = fileData.byteLength === 0 ?\n",
              "          100 :\n",
              "          Math.round((position / fileData.byteLength) * 100);\n",
              "      percent.textContent = `${percentDone}% done`;\n",
              "\n",
              "    } while (position < fileData.byteLength);\n",
              "  }\n",
              "\n",
              "  // All done.\n",
              "  yield {\n",
              "    response: {\n",
              "      action: 'complete',\n",
              "    }\n",
              "  };\n",
              "}\n",
              "\n",
              "scope.google = scope.google || {};\n",
              "scope.google.colab = scope.google.colab || {};\n",
              "scope.google.colab._files = {\n",
              "  _uploadFiles,\n",
              "  _uploadFilesContinue,\n",
              "};\n",
              "})(self);\n",
              "</script> "
            ],
            "text/plain": [
              "<IPython.core.display.HTML object>"
            ]
          },
          "metadata": {},
          "output_type": "display_data"
        },
        {
          "name": "stdout",
          "output_type": "stream",
          "text": [
            "Saving AAPL_minute_orderbook_2019_01-07_combined.csv to AAPL_minute_orderbook_2019_01-07_combined.csv\n"
          ]
        }
      ],
      "source": [
        "from google.colab import files\n",
        "uploaded = files.upload()  # 사용자에게 파일 업로드 받기\n",
        "\n",
        "import pandas as pd\n",
        "df = pd.read_csv(\"AAPL_minute_orderbook_2019_01-07_combined.csv\")"
      ]
    },
    {
      "cell_type": "code",
      "execution_count": 8,
      "id": "BQyy1e0-nWzm",
      "metadata": {
        "colab": {
          "base_uri": "https://localhost:8080/"
        },
        "id": "BQyy1e0-nWzm",
        "outputId": "e56a9f43-c31d-4d28-8cb9-aa078f25131b"
      },
      "outputs": [
        {
          "name": "stdout",
          "output_type": "stream",
          "text": [
            "torch.Size([36342, 1, 100, 40]) torch.Size([36342])\n"
          ]
        }
      ],
      "source": [
        "########## 수정: NaN 관련 + Z-score 정규화\n",
        "import pandas as pd\n",
        "from sklearn.model_selection import train_test_split\n",
        "from sklearn.preprocessing import StandardScaler\n",
        "\n",
        "# CSV 파일 불러오기\n",
        "df = pd.read_csv(\"AAPL_minute_orderbook_2019_01-07_combined.csv\")\n",
        "\n",
        "# 사용할 feature: 논문 기준 40개\n",
        "features = []\n",
        "for lvl in range(10):\n",
        "    lvl_str = f\"{lvl:02d}\"\n",
        "    features += [\n",
        "        f\"bid_px_{lvl_str}\", f\"bid_sz_{lvl_str}\",\n",
        "        f\"ask_px_{lvl_str}\", f\"ask_sz_{lvl_str}\"\n",
        "    ]\n",
        "\n",
        "# 중간 NaN값 선형 보간 (앞뒤 모두 활용)\n",
        "df[features] = df[features].interpolate(method='linear', limit_direction='both')\n",
        "\n",
        "# 정규화\n",
        "scaler = StandardScaler()\n",
        "df[features] = scaler.fit_transform(df[features])  # 또는 MinMaxScaler()\n",
        "\n",
        "\n",
        "# feature 추출\n",
        "df_features = df[features].copy()\n",
        "\n",
        "# mid-price 및 label 생성\n",
        "df_mid = pd.DataFrame()\n",
        "df_mid['mid_price'] = (df['bid_px_00'] + df['ask_px_00']) / 2\n",
        "df_mid['mid_price_future'] = df_mid['mid_price'].shift(-1)\n",
        "df_mid['label'] = (df_mid['mid_price_future'] > df_mid['mid_price']).astype(int) * 2 + \\\n",
        "                  (df_mid['mid_price_future'] == df_mid['mid_price']).astype(int) * 1\n",
        "\n",
        "# feature + label 결합\n",
        "df_all = pd.concat([df_features, df_mid['label']], axis=1)\n",
        "\n",
        "# label이 NaN인 마지막 행만 제거\n",
        "df_all = df_all.dropna(subset=['label'])\n",
        "df_all['label'] = df_all['label'].astype(int)\n",
        "\n",
        "# 학습/검증/테스트 split (시간 순서 유지)\n",
        "train_df, test_df = train_test_split(df_all, test_size=0.2, shuffle=False)\n",
        "train_df, val_df  = train_test_split(train_df, test_size=0.2, shuffle=False)\n",
        "\n",
        "# Dataset 구성\n",
        "T = 100\n",
        "batch_size = 64\n",
        "\n",
        "dataset_train = LOBDataset(train_df, T)\n",
        "dataset_val   = LOBDataset(val_df, T)\n",
        "dataset_test  = LOBDataset(test_df, T)\n",
        "\n",
        "train_loader = torch.utils.data.DataLoader(dataset_train, batch_size=batch_size, shuffle=True)\n",
        "val_loader   = torch.utils.data.DataLoader(dataset_val, batch_size=batch_size, shuffle=False)\n",
        "test_loader  = torch.utils.data.DataLoader(dataset_test, batch_size=batch_size, shuffle=False)\n",
        "\n",
        "# shape 확인\n",
        "print(dataset_train.x.shape, dataset_train.y.shape)\n"
      ]
    },
    {
      "cell_type": "code",
      "execution_count": 9,
      "id": "2ee0ada0",
      "metadata": {
        "colab": {
          "base_uri": "https://localhost:8080/"
        },
        "id": "2ee0ada0",
        "outputId": "a2652d07-36df-4323-f3fb-4090a7cb195e",
        "scrolled": true
      },
      "outputs": [
        {
          "name": "stdout",
          "output_type": "stream",
          "text": [
            "tensor([[[[-0.7759, -0.4790, -0.7181,  ..., -0.4519, -0.3761, -0.1921],\n",
            "          [-0.7759, -0.4790, -0.7181,  ..., -0.4519, -0.3761, -0.1921],\n",
            "          [-0.7759, -0.4790, -0.7181,  ..., -0.4152, -0.3761, -0.1921],\n",
            "          ...,\n",
            "          [-0.7424,  0.3493, -0.7265,  ...,  1.6910, -0.6075, -0.1502],\n",
            "          [-0.7329, -0.1411, -0.7265,  ..., -0.3640, -0.6075, -0.1502],\n",
            "          [-0.7469, -0.4061, -0.7382,  ..., -0.4958, -0.6344, -0.1963]]]])\n",
            "tensor([0])\n",
            "torch.Size([1, 1, 100, 40]) torch.Size([1])\n"
          ]
        }
      ],
      "source": [
        "tmp_loader = torch.utils.data.DataLoader(dataset=dataset_train, batch_size=1, shuffle=True)\n",
        "\n",
        "for x, y in tmp_loader:\n",
        "    print(x)\n",
        "    print(y)\n",
        "    print(x.shape, y.shape)\n",
        "    break"
      ]
    },
    {
      "cell_type": "code",
      "execution_count": 10,
      "id": "a3aab056-0e12-4b23-bb84-1ca9cd156382",
      "metadata": {
        "colab": {
          "base_uri": "https://localhost:8080/"
        },
        "id": "a3aab056-0e12-4b23-bb84-1ca9cd156382",
        "outputId": "ec0b7280-3214-4dc7-b984-1cc8587f006d"
      },
      "outputs": [
        {
          "name": "stdout",
          "output_type": "stream",
          "text": [
            "x: torch.float32 torch.Size([1, 1, 100, 40])\n",
            "y: torch.int64 torch.Size([1])\n",
            "y value: tensor([2])\n"
          ]
        }
      ],
      "source": [
        "tmp_loader = torch.utils.data.DataLoader(dataset=dataset_train, batch_size=1, shuffle=True)\n",
        "\n",
        "for x, y in tmp_loader:\n",
        "    print(\"x:\", x.dtype, x.shape)  # torch.float32, torch.Size([1, 1, 100, 40])\n",
        "    print(\"y:\", y.dtype, y.shape)  # torch.int64,    torch.Size([1])\n",
        "    print(\"y value:\", y)           # tensor([0]) 또는 tensor([2]) 등\n",
        "    break"
      ]
    },
    {
      "cell_type": "markdown",
      "id": "73749158",
      "metadata": {
        "id": "73749158"
      },
      "source": [
        "# Model Architecture\n",
        "\n",
        "Please find the detailed discussion of our model architecture in our paper."
      ]
    },
    {
      "cell_type": "code",
      "execution_count": null,
      "id": "5e3f720b",
      "metadata": {
        "id": "5e3f720b"
      },
      "outputs": [],
      "source": [
        "\"\"\"\n",
        "class deeplob(nn.Module):\n",
        "    def __init__(self, y_len):\n",
        "        super().__init__()\n",
        "        self.y_len = y_len\n",
        "\n",
        "        # convolution blocks\n",
        "        self.conv1 = nn.Sequential(\n",
        "            nn.Conv2d(in_channels=1, out_channels=32, kernel_size=(1,2), stride=(1,2)),\n",
        "            nn.LeakyReLU(negative_slope=0.01),\n",
        "#             nn.Tanh(),\n",
        "            nn.BatchNorm2d(32),\n",
        "            nn.Conv2d(in_channels=32, out_channels=32, kernel_size=(4,1)),\n",
        "            nn.LeakyReLU(negative_slope=0.01),\n",
        "            nn.BatchNorm2d(32),\n",
        "            nn.Conv2d(in_channels=32, out_channels=32, kernel_size=(4,1)),\n",
        "            nn.LeakyReLU(negative_slope=0.01),\n",
        "            nn.BatchNorm2d(32),\n",
        "        )\n",
        "        self.conv2 = nn.Sequential(\n",
        "            nn.Conv2d(in_channels=32, out_channels=32, kernel_size=(1,2), stride=(1,2)),\n",
        "            nn.Tanh(),\n",
        "            nn.BatchNorm2d(32),\n",
        "            nn.Conv2d(in_channels=32, out_channels=32, kernel_size=(4,1)),\n",
        "            nn.Tanh(),\n",
        "            nn.BatchNorm2d(32),\n",
        "            nn.Conv2d(in_channels=32, out_channels=32, kernel_size=(4,1)),\n",
        "            nn.Tanh(),\n",
        "            nn.BatchNorm2d(32),\n",
        "        )\n",
        "        self.conv3 = nn.Sequential(\n",
        "            nn.Conv2d(in_channels=32, out_channels=32, kernel_size=(1,10)),\n",
        "            nn.LeakyReLU(negative_slope=0.01),\n",
        "            nn.BatchNorm2d(32),\n",
        "            nn.Conv2d(in_channels=32, out_channels=32, kernel_size=(4,1)),\n",
        "            nn.LeakyReLU(negative_slope=0.01),\n",
        "            nn.BatchNorm2d(32),\n",
        "            nn.Conv2d(in_channels=32, out_channels=32, kernel_size=(4,1)),\n",
        "            nn.LeakyReLU(negative_slope=0.01),\n",
        "            nn.BatchNorm2d(32),\n",
        "        )\n",
        "\n",
        "        # inception moduels\n",
        "        self.inp1 = nn.Sequential(\n",
        "            nn.Conv2d(in_channels=32, out_channels=64, kernel_size=(1,1), padding='same'),\n",
        "            nn.LeakyReLU(negative_slope=0.01),\n",
        "            nn.BatchNorm2d(64),\n",
        "            nn.Conv2d(in_channels=64, out_channels=64, kernel_size=(3,1), padding='same'),\n",
        "            nn.LeakyReLU(negative_slope=0.01),\n",
        "            nn.BatchNorm2d(64),\n",
        "        )\n",
        "        self.inp2 = nn.Sequential(\n",
        "            nn.Conv2d(in_channels=32, out_channels=64, kernel_size=(1,1), padding='same'),\n",
        "            nn.LeakyReLU(negative_slope=0.01),\n",
        "            nn.BatchNorm2d(64),\n",
        "            nn.Conv2d(in_channels=64, out_channels=64, kernel_size=(5,1), padding='same'),\n",
        "            nn.LeakyReLU(negative_slope=0.01),\n",
        "            nn.BatchNorm2d(64),\n",
        "        )\n",
        "        self.inp3 = nn.Sequential(\n",
        "            nn.MaxPool2d((3, 1), stride=(1, 1), padding=(1, 0)),\n",
        "            nn.Conv2d(in_channels=32, out_channels=64, kernel_size=(1,1), padding='same'),\n",
        "            nn.LeakyReLU(negative_slope=0.01),\n",
        "            nn.BatchNorm2d(64),\n",
        "        )\n",
        "\n",
        "        # lstm layers\n",
        "        self.lstm = nn.LSTM(input_size=192, hidden_size=64, num_layers=1, batch_first=True)\n",
        "        self.fc1 = nn.Linear(64, self.y_len)\n",
        "\n",
        "    def forward(self, x):\n",
        "        # h0: (number of hidden layers, batch size, hidden size)\n",
        "        h0 = torch.zeros(1, x.size(0), 64).to(device)\n",
        "        c0 = torch.zeros(1, x.size(0), 64).to(device)\n",
        "\n",
        "        x = self.conv1(x)\n",
        "        x = self.conv2(x)\n",
        "        x = self.conv3(x)\n",
        "\n",
        "        x_inp1 = self.inp1(x)\n",
        "        x_inp2 = self.inp2(x)\n",
        "        x_inp3 = self.inp3(x)\n",
        "\n",
        "        x = torch.cat((x_inp1, x_inp2, x_inp3), dim=1)\n",
        "\n",
        "#         x = torch.transpose(x, 1, 2)\n",
        "        x = x.permute(0, 2, 1, 3)\n",
        "        x = torch.reshape(x, (-1, x.shape[1], x.shape[2]))\n",
        "\n",
        "        x, _ = self.lstm(x, (h0, c0))\n",
        "        x = x[:, -1, :]\n",
        "        x = self.fc1(x)\n",
        "        forecast_y = torch.softmax(x, dim=1)\n",
        "\n",
        "        return forecast_y\n",
        "\"\"\""
      ]
    },
    {
      "cell_type": "code",
      "execution_count": 11,
      "id": "XPfoWinSs4xN",
      "metadata": {
        "id": "XPfoWinSs4xN"
      },
      "outputs": [],
      "source": [
        "############## 수정3: lstm hidden unit 줄이기 + dropout\n",
        "import torch\n",
        "import torch.nn as nn\n",
        "\n",
        "class deeplob(nn.Module):\n",
        "    def __init__(self, y_len):\n",
        "        super().__init__()\n",
        "        self.y_len = y_len\n",
        "\n",
        "        # Convolution Block 1\n",
        "        self.conv1 = nn.Sequential(\n",
        "            nn.Conv2d(1, 32, kernel_size=(1, 2), stride=(1, 2)),\n",
        "            nn.LeakyReLU(0.01),\n",
        "            nn.BatchNorm2d(32),\n",
        "            nn.Conv2d(32, 32, kernel_size=(4, 1)),\n",
        "            nn.LeakyReLU(0.01),\n",
        "            nn.BatchNorm2d(32),\n",
        "            nn.Conv2d(32, 32, kernel_size=(4, 1)),\n",
        "            nn.LeakyReLU(0.01),\n",
        "            nn.BatchNorm2d(32)\n",
        "        )\n",
        "\n",
        "        # Convolution Block 2\n",
        "        self.conv2 = nn.Sequential(\n",
        "            nn.Conv2d(32, 32, kernel_size=(1, 2), stride=(1, 2)),\n",
        "            nn.Tanh(),\n",
        "            nn.BatchNorm2d(32),\n",
        "            nn.Conv2d(32, 32, kernel_size=(4, 1)),\n",
        "            nn.Tanh(),\n",
        "            nn.BatchNorm2d(32),\n",
        "            nn.Conv2d(32, 32, kernel_size=(4, 1)),\n",
        "            nn.Tanh(),\n",
        "            nn.BatchNorm2d(32)\n",
        "        )\n",
        "\n",
        "        # Convolution Block 3\n",
        "        self.conv3 = nn.Sequential(\n",
        "            nn.Conv2d(32, 32, kernel_size=(1, 10)),\n",
        "            nn.LeakyReLU(0.01),\n",
        "            nn.BatchNorm2d(32),\n",
        "            nn.Conv2d(32, 32, kernel_size=(4, 1)),\n",
        "            nn.LeakyReLU(0.01),\n",
        "            nn.BatchNorm2d(32),\n",
        "            nn.Conv2d(32, 32, kernel_size=(4, 1)),\n",
        "            nn.LeakyReLU(0.01),\n",
        "            nn.BatchNorm2d(32)\n",
        "        )\n",
        "\n",
        "        # Inception Modules\n",
        "        self.inp1 = nn.Sequential(\n",
        "            nn.Conv2d(32, 64, kernel_size=(1, 1), padding='same'),\n",
        "            nn.LeakyReLU(0.01),\n",
        "            nn.BatchNorm2d(64),\n",
        "            nn.Conv2d(64, 64, kernel_size=(3, 1), padding='same'),\n",
        "            nn.LeakyReLU(0.01),\n",
        "            nn.BatchNorm2d(64)\n",
        "        )\n",
        "\n",
        "        self.inp2 = nn.Sequential(\n",
        "            nn.Conv2d(32, 64, kernel_size=(1, 1), padding='same'),\n",
        "            nn.LeakyReLU(0.01),\n",
        "            nn.BatchNorm2d(64),\n",
        "            nn.Conv2d(64, 64, kernel_size=(5, 1), padding='same'),\n",
        "            nn.LeakyReLU(0.01),\n",
        "            nn.BatchNorm2d(64)\n",
        "        )\n",
        "\n",
        "        self.inp3 = nn.Sequential(\n",
        "            nn.MaxPool2d((3, 1), stride=(1, 1), padding=(1, 0)),\n",
        "            nn.Conv2d(32, 64, kernel_size=(1, 1), padding='same'),\n",
        "            nn.LeakyReLU(0.01),\n",
        "            nn.BatchNorm2d(64)\n",
        "        )\n",
        "\n",
        "        # LSTM: 192 features from concatenated inception outputs\n",
        "        self.lstm = nn.LSTM(input_size=192, hidden_size=32, num_layers=1, batch_first=True)\n",
        "\n",
        "        self.dropout = nn.Dropout(0.3)\n",
        "\n",
        "        # Fully connected output layer\n",
        "        self.fc1 = nn.Linear(32, self.y_len)\n",
        "\n",
        "    def forward(self, x):  # x: (B, 1, 100, 60)\n",
        "        x = self.conv1(x)\n",
        "        x = self.conv2(x)\n",
        "        x = self.conv3(x)\n",
        "\n",
        "        x_inp1 = self.inp1(x)\n",
        "        x_inp2 = self.inp2(x)\n",
        "        x_inp3 = self.inp3(x)\n",
        "\n",
        "        # Concatenate inception outputs along channel axis → (B, 192, T, 1)\n",
        "        x = torch.cat([x_inp1, x_inp2, x_inp3], dim=1)\n",
        "\n",
        "        # Reshape for LSTM input → (B, T, 192)\n",
        "        x = x.squeeze(-1).permute(0, 2, 1)\n",
        "\n",
        "        # LSTM\n",
        "        x, _ = self.lstm(x)         # (B, T, 64)\n",
        "        x = x[:, -1, :]             # 마지막 timestep만 사용 → (B, 64)\n",
        "        x = self.dropout(x)         # Dropout 적용!\n",
        "        x = self.fc1(x)             # (B, y_len)\n",
        "        return x                    # softmax는 CrossEntropyLoss에서 처리됨"
      ]
    },
    {
      "cell_type": "code",
      "execution_count": 12,
      "id": "4cccb911",
      "metadata": {
        "colab": {
          "base_uri": "https://localhost:8080/"
        },
        "id": "4cccb911",
        "outputId": "ee53be38-28e2-48fc-dd7f-bc38c1a4d5ad",
        "scrolled": true
      },
      "outputs": [
        {
          "data": {
            "text/plain": [
              "deeplob(\n",
              "  (conv1): Sequential(\n",
              "    (0): Conv2d(1, 32, kernel_size=(1, 2), stride=(1, 2))\n",
              "    (1): LeakyReLU(negative_slope=0.01)\n",
              "    (2): BatchNorm2d(32, eps=1e-05, momentum=0.1, affine=True, track_running_stats=True)\n",
              "    (3): Conv2d(32, 32, kernel_size=(4, 1), stride=(1, 1))\n",
              "    (4): LeakyReLU(negative_slope=0.01)\n",
              "    (5): BatchNorm2d(32, eps=1e-05, momentum=0.1, affine=True, track_running_stats=True)\n",
              "    (6): Conv2d(32, 32, kernel_size=(4, 1), stride=(1, 1))\n",
              "    (7): LeakyReLU(negative_slope=0.01)\n",
              "    (8): BatchNorm2d(32, eps=1e-05, momentum=0.1, affine=True, track_running_stats=True)\n",
              "  )\n",
              "  (conv2): Sequential(\n",
              "    (0): Conv2d(32, 32, kernel_size=(1, 2), stride=(1, 2))\n",
              "    (1): Tanh()\n",
              "    (2): BatchNorm2d(32, eps=1e-05, momentum=0.1, affine=True, track_running_stats=True)\n",
              "    (3): Conv2d(32, 32, kernel_size=(4, 1), stride=(1, 1))\n",
              "    (4): Tanh()\n",
              "    (5): BatchNorm2d(32, eps=1e-05, momentum=0.1, affine=True, track_running_stats=True)\n",
              "    (6): Conv2d(32, 32, kernel_size=(4, 1), stride=(1, 1))\n",
              "    (7): Tanh()\n",
              "    (8): BatchNorm2d(32, eps=1e-05, momentum=0.1, affine=True, track_running_stats=True)\n",
              "  )\n",
              "  (conv3): Sequential(\n",
              "    (0): Conv2d(32, 32, kernel_size=(1, 10), stride=(1, 1))\n",
              "    (1): LeakyReLU(negative_slope=0.01)\n",
              "    (2): BatchNorm2d(32, eps=1e-05, momentum=0.1, affine=True, track_running_stats=True)\n",
              "    (3): Conv2d(32, 32, kernel_size=(4, 1), stride=(1, 1))\n",
              "    (4): LeakyReLU(negative_slope=0.01)\n",
              "    (5): BatchNorm2d(32, eps=1e-05, momentum=0.1, affine=True, track_running_stats=True)\n",
              "    (6): Conv2d(32, 32, kernel_size=(4, 1), stride=(1, 1))\n",
              "    (7): LeakyReLU(negative_slope=0.01)\n",
              "    (8): BatchNorm2d(32, eps=1e-05, momentum=0.1, affine=True, track_running_stats=True)\n",
              "  )\n",
              "  (inp1): Sequential(\n",
              "    (0): Conv2d(32, 64, kernel_size=(1, 1), stride=(1, 1), padding=same)\n",
              "    (1): LeakyReLU(negative_slope=0.01)\n",
              "    (2): BatchNorm2d(64, eps=1e-05, momentum=0.1, affine=True, track_running_stats=True)\n",
              "    (3): Conv2d(64, 64, kernel_size=(3, 1), stride=(1, 1), padding=same)\n",
              "    (4): LeakyReLU(negative_slope=0.01)\n",
              "    (5): BatchNorm2d(64, eps=1e-05, momentum=0.1, affine=True, track_running_stats=True)\n",
              "  )\n",
              "  (inp2): Sequential(\n",
              "    (0): Conv2d(32, 64, kernel_size=(1, 1), stride=(1, 1), padding=same)\n",
              "    (1): LeakyReLU(negative_slope=0.01)\n",
              "    (2): BatchNorm2d(64, eps=1e-05, momentum=0.1, affine=True, track_running_stats=True)\n",
              "    (3): Conv2d(64, 64, kernel_size=(5, 1), stride=(1, 1), padding=same)\n",
              "    (4): LeakyReLU(negative_slope=0.01)\n",
              "    (5): BatchNorm2d(64, eps=1e-05, momentum=0.1, affine=True, track_running_stats=True)\n",
              "  )\n",
              "  (inp3): Sequential(\n",
              "    (0): MaxPool2d(kernel_size=(3, 1), stride=(1, 1), padding=(1, 0), dilation=1, ceil_mode=False)\n",
              "    (1): Conv2d(32, 64, kernel_size=(1, 1), stride=(1, 1), padding=same)\n",
              "    (2): LeakyReLU(negative_slope=0.01)\n",
              "    (3): BatchNorm2d(64, eps=1e-05, momentum=0.1, affine=True, track_running_stats=True)\n",
              "  )\n",
              "  (lstm): LSTM(192, 32, batch_first=True)\n",
              "  (dropout): Dropout(p=0.3, inplace=False)\n",
              "  (fc1): Linear(in_features=32, out_features=3, bias=True)\n",
              ")"
            ]
          },
          "execution_count": 12,
          "metadata": {},
          "output_type": "execute_result"
        }
      ],
      "source": [
        "model = deeplob(y_len = dataset_train.num_classes)\n",
        "model.to(device)"
      ]
    },
    {
      "cell_type": "code",
      "execution_count": 13,
      "id": "7842c55c",
      "metadata": {
        "colab": {
          "base_uri": "https://localhost:8080/"
        },
        "id": "7842c55c",
        "outputId": "ada4e771-29e8-4245-ce3c-e942478b824c",
        "scrolled": true
      },
      "outputs": [
        {
          "data": {
            "text/plain": [
              "==========================================================================================\n",
              "Layer (type:depth-idx)                   Output Shape              Param #\n",
              "==========================================================================================\n",
              "deeplob                                  [1, 3]                    --\n",
              "├─Sequential: 1-1                        [1, 32, 94, 20]           --\n",
              "│    └─Conv2d: 2-1                       [1, 32, 100, 20]          96\n",
              "│    └─LeakyReLU: 2-2                    [1, 32, 100, 20]          --\n",
              "│    └─BatchNorm2d: 2-3                  [1, 32, 100, 20]          64\n",
              "│    └─Conv2d: 2-4                       [1, 32, 97, 20]           4,128\n",
              "│    └─LeakyReLU: 2-5                    [1, 32, 97, 20]           --\n",
              "│    └─BatchNorm2d: 2-6                  [1, 32, 97, 20]           64\n",
              "│    └─Conv2d: 2-7                       [1, 32, 94, 20]           4,128\n",
              "│    └─LeakyReLU: 2-8                    [1, 32, 94, 20]           --\n",
              "│    └─BatchNorm2d: 2-9                  [1, 32, 94, 20]           64\n",
              "├─Sequential: 1-2                        [1, 32, 88, 10]           --\n",
              "│    └─Conv2d: 2-10                      [1, 32, 94, 10]           2,080\n",
              "│    └─Tanh: 2-11                        [1, 32, 94, 10]           --\n",
              "│    └─BatchNorm2d: 2-12                 [1, 32, 94, 10]           64\n",
              "│    └─Conv2d: 2-13                      [1, 32, 91, 10]           4,128\n",
              "│    └─Tanh: 2-14                        [1, 32, 91, 10]           --\n",
              "│    └─BatchNorm2d: 2-15                 [1, 32, 91, 10]           64\n",
              "│    └─Conv2d: 2-16                      [1, 32, 88, 10]           4,128\n",
              "│    └─Tanh: 2-17                        [1, 32, 88, 10]           --\n",
              "│    └─BatchNorm2d: 2-18                 [1, 32, 88, 10]           64\n",
              "├─Sequential: 1-3                        [1, 32, 82, 1]            --\n",
              "│    └─Conv2d: 2-19                      [1, 32, 88, 1]            10,272\n",
              "│    └─LeakyReLU: 2-20                   [1, 32, 88, 1]            --\n",
              "│    └─BatchNorm2d: 2-21                 [1, 32, 88, 1]            64\n",
              "│    └─Conv2d: 2-22                      [1, 32, 85, 1]            4,128\n",
              "│    └─LeakyReLU: 2-23                   [1, 32, 85, 1]            --\n",
              "│    └─BatchNorm2d: 2-24                 [1, 32, 85, 1]            64\n",
              "│    └─Conv2d: 2-25                      [1, 32, 82, 1]            4,128\n",
              "│    └─LeakyReLU: 2-26                   [1, 32, 82, 1]            --\n",
              "│    └─BatchNorm2d: 2-27                 [1, 32, 82, 1]            64\n",
              "├─Sequential: 1-4                        [1, 64, 82, 1]            --\n",
              "│    └─Conv2d: 2-28                      [1, 64, 82, 1]            2,112\n",
              "│    └─LeakyReLU: 2-29                   [1, 64, 82, 1]            --\n",
              "│    └─BatchNorm2d: 2-30                 [1, 64, 82, 1]            128\n",
              "│    └─Conv2d: 2-31                      [1, 64, 82, 1]            12,352\n",
              "│    └─LeakyReLU: 2-32                   [1, 64, 82, 1]            --\n",
              "│    └─BatchNorm2d: 2-33                 [1, 64, 82, 1]            128\n",
              "├─Sequential: 1-5                        [1, 64, 82, 1]            --\n",
              "│    └─Conv2d: 2-34                      [1, 64, 82, 1]            2,112\n",
              "│    └─LeakyReLU: 2-35                   [1, 64, 82, 1]            --\n",
              "│    └─BatchNorm2d: 2-36                 [1, 64, 82, 1]            128\n",
              "│    └─Conv2d: 2-37                      [1, 64, 82, 1]            20,544\n",
              "│    └─LeakyReLU: 2-38                   [1, 64, 82, 1]            --\n",
              "│    └─BatchNorm2d: 2-39                 [1, 64, 82, 1]            128\n",
              "├─Sequential: 1-6                        [1, 64, 82, 1]            --\n",
              "│    └─MaxPool2d: 2-40                   [1, 32, 82, 1]            --\n",
              "│    └─Conv2d: 2-41                      [1, 64, 82, 1]            2,112\n",
              "│    └─LeakyReLU: 2-42                   [1, 64, 82, 1]            --\n",
              "│    └─BatchNorm2d: 2-43                 [1, 64, 82, 1]            128\n",
              "├─LSTM: 1-7                              [1, 82, 32]               28,928\n",
              "├─Dropout: 1-8                           [1, 32]                   --\n",
              "├─Linear: 1-9                            [1, 3]                    99\n",
              "==========================================================================================\n",
              "Total params: 106,691\n",
              "Trainable params: 106,691\n",
              "Non-trainable params: 0\n",
              "Total mult-adds (Units.MEGABYTES): 32.49\n",
              "==========================================================================================\n",
              "Input size (MB): 0.02\n",
              "Forward/backward pass size (MB): 4.95\n",
              "Params size (MB): 0.43\n",
              "Estimated Total Size (MB): 5.39\n",
              "=========================================================================================="
            ]
          },
          "execution_count": 13,
          "metadata": {},
          "output_type": "execute_result"
        }
      ],
      "source": [
        "summary(model, (1, 1, 100, 40))"
      ]
    },
    {
      "cell_type": "code",
      "execution_count": null,
      "id": "6d26be96",
      "metadata": {
        "id": "6d26be96"
      },
      "outputs": [],
      "source": [
        "\"\"\"\n",
        "criterion = nn.CrossEntropyLoss()\n",
        "optimizer = torch.optim.Adam(model.parameters(), lr=0.0001)\n",
        "\"\"\""
      ]
    },
    {
      "cell_type": "code",
      "execution_count": 14,
      "id": "myJhVIgrtT_j",
      "metadata": {
        "id": "myJhVIgrtT_j"
      },
      "outputs": [],
      "source": [
        "##########3 수정2: lr 줄여봄\n",
        "criterion = nn.CrossEntropyLoss()\n",
        "optimizer = torch.optim.Adam(model.parameters(), lr=0.00005)"
      ]
    },
    {
      "cell_type": "markdown",
      "id": "4919600c",
      "metadata": {
        "id": "4919600c"
      },
      "source": [
        "# Model Training\n"
      ]
    },
    {
      "cell_type": "code",
      "execution_count": null,
      "id": "f90ad6ce",
      "metadata": {
        "id": "f90ad6ce"
      },
      "outputs": [],
      "source": [
        "\"\"\"\n",
        "# A function to encapsulate the training loop\n",
        "def batch_gd(model, criterion, optimizer, train_loader, test_loader, epochs):\n",
        "\n",
        "    train_losses = np.zeros(epochs)\n",
        "    test_losses = np.zeros(epochs)\n",
        "    best_test_loss = np.inf\n",
        "    best_test_epoch = 0\n",
        "\n",
        "    for it in tqdm(range(epochs)):\n",
        "\n",
        "        model.train()\n",
        "        t0 = datetime.now()\n",
        "        train_loss = []\n",
        "        for inputs, targets in train_loader:\n",
        "            # move data to GPU\n",
        "            inputs, targets = inputs.to(device, dtype=torch.float), targets.to(device, dtype=torch.int64)\n",
        "            # print(\"inputs.shape:\", inputs.shape)\n",
        "            # zero the parameter gradients\n",
        "            optimizer.zero_grad()\n",
        "            # Forward pass\n",
        "            # print(\"about to get model output\")\n",
        "            outputs = model(inputs)\n",
        "            # print(\"done getting model output\")\n",
        "            # print(\"outputs.shape:\", outputs.shape, \"targets.shape:\", targets.shape)\n",
        "            loss = criterion(outputs, targets)\n",
        "            # Backward and optimize\n",
        "            # print(\"about to optimize\")\n",
        "            loss.backward()\n",
        "            optimizer.step()\n",
        "            train_loss.append(loss.item())\n",
        "        # Get train loss and test loss\n",
        "        train_loss = np.mean(train_loss) # a little misleading\n",
        "\n",
        "        model.eval()\n",
        "        test_loss = []\n",
        "        for inputs, targets in test_loader:\n",
        "            inputs, targets = inputs.to(device, dtype=torch.float), targets.to(device, dtype=torch.int64)\n",
        "            outputs = model(inputs)\n",
        "            loss = criterion(outputs, targets)\n",
        "            test_loss.append(loss.item())\n",
        "        test_loss = np.mean(test_loss)\n",
        "\n",
        "        # Save losses\n",
        "        train_losses[it] = train_loss\n",
        "        test_losses[it] = test_loss\n",
        "\n",
        "        if test_loss < best_test_loss:\n",
        "            torch.save(model, './best_val_model_pytorch')\n",
        "            best_test_loss = test_loss\n",
        "            best_test_epoch = it\n",
        "            print('model saved')\n",
        "\n",
        "        dt = datetime.now() - t0\n",
        "        print(f'Epoch {it+1}/{epochs}, Train Loss: {train_loss:.4f}, \\\n",
        "          Validation Loss: {test_loss:.4f}, Duration: {dt}, Best Val Epoch: {best_test_epoch}')\n",
        "\n",
        "    return train_losses, test_losses\n",
        "\"\"\""
      ]
    },
    {
      "cell_type": "code",
      "execution_count": 15,
      "id": "495758eb-8135-48ee-8c03-e5ca829c0d3f",
      "metadata": {
        "id": "495758eb-8135-48ee-8c03-e5ca829c0d3f"
      },
      "outputs": [],
      "source": [
        "############# 수정\n",
        "from datetime import datetime\n",
        "from tqdm import tqdm\n",
        "import numpy as np\n",
        "import torch\n",
        "\n",
        "def batch_gd(model, criterion, optimizer, train_loader, test_loader, epochs):\n",
        "    train_losses = np.zeros(epochs)\n",
        "    test_losses = np.zeros(epochs)\n",
        "    best_test_loss = np.inf\n",
        "    best_test_epoch = 0\n",
        "\n",
        "    for it in tqdm(range(epochs)):\n",
        "        model.train()\n",
        "        t0 = datetime.now()\n",
        "        train_loss = []\n",
        "\n",
        "        for inputs, targets in train_loader:\n",
        "            inputs, targets = inputs.to(device), targets.to(device)\n",
        "\n",
        "            optimizer.zero_grad()\n",
        "            outputs = model(inputs)\n",
        "            loss = criterion(outputs, targets)\n",
        "            loss.backward()\n",
        "            optimizer.step()\n",
        "            train_loss.append(loss.item())\n",
        "\n",
        "        train_loss = np.mean(train_loss)\n",
        "\n",
        "        model.eval()\n",
        "        test_loss = []\n",
        "        with torch.no_grad():\n",
        "            for inputs, targets in test_loader:\n",
        "                inputs, targets = inputs.to(device), targets.to(device)\n",
        "                outputs = model(inputs)\n",
        "                loss = criterion(outputs, targets)\n",
        "                test_loss.append(loss.item())\n",
        "        test_loss = np.mean(test_loss)\n",
        "\n",
        "        train_losses[it] = train_loss\n",
        "        test_losses[it] = test_loss\n",
        "\n",
        "        if test_loss < best_test_loss:\n",
        "            torch.save(model, './best_val_model_pytorch')\n",
        "            best_test_loss = test_loss\n",
        "            best_test_epoch = it\n",
        "            print('model saved')\n",
        "\n",
        "        dt = datetime.now() - t0\n",
        "        print(f'Epoch {it+1}/{epochs}, Train Loss: {train_loss:.4f}, '\n",
        "              f'Validation Loss: {test_loss:.4f}, Duration: {dt}, Best Val Epoch: {best_test_epoch}')\n",
        "\n",
        "    return train_losses, test_losses\n"
      ]
    },
    {
      "cell_type": "code",
      "execution_count": 16,
      "id": "PRu3qUDrvsMl",
      "metadata": {
        "colab": {
          "base_uri": "https://localhost:8080/"
        },
        "id": "PRu3qUDrvsMl",
        "outputId": "765dadae-6357-477f-af7f-eac9543f023f"
      },
      "outputs": [
        {
          "name": "stderr",
          "output_type": "stream",
          "text": [
            "  2%|▏         | 1/50 [00:19<15:55, 19.50s/it]"
          ]
        },
        {
          "name": "stdout",
          "output_type": "stream",
          "text": [
            "model saved\n",
            "Epoch 1/50, Train Loss: 1.0497, Validation Loss: 1.0342, Duration: 0:00:19.497886, Best Val Epoch: 0\n"
          ]
        },
        {
          "name": "stderr",
          "output_type": "stream",
          "text": [
            "\r  4%|▍         | 2/50 [00:37<14:56, 18.68s/it]"
          ]
        },
        {
          "name": "stdout",
          "output_type": "stream",
          "text": [
            "model saved\n",
            "Epoch 2/50, Train Loss: 0.9981, Validation Loss: 1.0181, Duration: 0:00:18.097308, Best Val Epoch: 1\n"
          ]
        },
        {
          "name": "stderr",
          "output_type": "stream",
          "text": [
            "\r  6%|▌         | 3/50 [00:55<14:26, 18.43s/it]"
          ]
        },
        {
          "name": "stdout",
          "output_type": "stream",
          "text": [
            "Epoch 3/50, Train Loss: 0.9733, Validation Loss: 1.0194, Duration: 0:00:18.144467, Best Val Epoch: 1\n"
          ]
        },
        {
          "name": "stderr",
          "output_type": "stream",
          "text": [
            "\r  8%|▊         | 4/50 [01:14<14:14, 18.58s/it]"
          ]
        },
        {
          "name": "stdout",
          "output_type": "stream",
          "text": [
            "model saved\n",
            "Epoch 4/50, Train Loss: 0.9591, Validation Loss: 1.0112, Duration: 0:00:18.809332, Best Val Epoch: 3\n"
          ]
        },
        {
          "name": "stderr",
          "output_type": "stream",
          "text": [
            "\r 10%|█         | 5/50 [01:33<13:58, 18.64s/it]"
          ]
        },
        {
          "name": "stdout",
          "output_type": "stream",
          "text": [
            "model saved\n",
            "Epoch 5/50, Train Loss: 0.9484, Validation Loss: 1.0037, Duration: 0:00:18.731530, Best Val Epoch: 4\n"
          ]
        },
        {
          "name": "stderr",
          "output_type": "stream",
          "text": [
            "\r 12%|█▏        | 6/50 [01:52<13:43, 18.71s/it]"
          ]
        },
        {
          "name": "stdout",
          "output_type": "stream",
          "text": [
            "Epoch 6/50, Train Loss: 0.9372, Validation Loss: 1.0086, Duration: 0:00:18.843009, Best Val Epoch: 4\n"
          ]
        },
        {
          "name": "stderr",
          "output_type": "stream",
          "text": [
            "\r 14%|█▍        | 7/50 [02:10<13:20, 18.62s/it]"
          ]
        },
        {
          "name": "stdout",
          "output_type": "stream",
          "text": [
            "Epoch 7/50, Train Loss: 0.9314, Validation Loss: 1.0079, Duration: 0:00:18.438646, Best Val Epoch: 4\n"
          ]
        },
        {
          "name": "stderr",
          "output_type": "stream",
          "text": [
            "\r 16%|█▌        | 8/50 [02:29<12:59, 18.57s/it]"
          ]
        },
        {
          "name": "stdout",
          "output_type": "stream",
          "text": [
            "Epoch 8/50, Train Loss: 0.9243, Validation Loss: 1.0153, Duration: 0:00:18.452940, Best Val Epoch: 4\n"
          ]
        },
        {
          "name": "stderr",
          "output_type": "stream",
          "text": [
            "\r 18%|█▊        | 9/50 [02:47<12:40, 18.54s/it]"
          ]
        },
        {
          "name": "stdout",
          "output_type": "stream",
          "text": [
            "Epoch 9/50, Train Loss: 0.9178, Validation Loss: 1.0094, Duration: 0:00:18.491269, Best Val Epoch: 4\n"
          ]
        },
        {
          "name": "stderr",
          "output_type": "stream",
          "text": [
            "\r 20%|██        | 10/50 [03:06<12:30, 18.76s/it]"
          ]
        },
        {
          "name": "stdout",
          "output_type": "stream",
          "text": [
            "Epoch 10/50, Train Loss: 0.9117, Validation Loss: 1.0172, Duration: 0:00:19.228545, Best Val Epoch: 4\n"
          ]
        },
        {
          "name": "stderr",
          "output_type": "stream",
          "text": [
            "\r 22%|██▏       | 11/50 [03:25<12:08, 18.69s/it]"
          ]
        },
        {
          "name": "stdout",
          "output_type": "stream",
          "text": [
            "Epoch 11/50, Train Loss: 0.9061, Validation Loss: 1.0167, Duration: 0:00:18.542406, Best Val Epoch: 4\n"
          ]
        },
        {
          "name": "stderr",
          "output_type": "stream",
          "text": [
            "\r 24%|██▍       | 12/50 [03:43<11:48, 18.65s/it]"
          ]
        },
        {
          "name": "stdout",
          "output_type": "stream",
          "text": [
            "Epoch 12/50, Train Loss: 0.9019, Validation Loss: 1.0220, Duration: 0:00:18.567100, Best Val Epoch: 4\n"
          ]
        },
        {
          "name": "stderr",
          "output_type": "stream",
          "text": [
            "\r 26%|██▌       | 13/50 [04:02<11:28, 18.61s/it]"
          ]
        },
        {
          "name": "stdout",
          "output_type": "stream",
          "text": [
            "Epoch 13/50, Train Loss: 0.8970, Validation Loss: 1.0325, Duration: 0:00:18.523697, Best Val Epoch: 4\n"
          ]
        },
        {
          "name": "stderr",
          "output_type": "stream",
          "text": [
            "\r 28%|██▊       | 14/50 [04:20<11:09, 18.59s/it]"
          ]
        },
        {
          "name": "stdout",
          "output_type": "stream",
          "text": [
            "Epoch 14/50, Train Loss: 0.8913, Validation Loss: 1.0369, Duration: 0:00:18.538865, Best Val Epoch: 4\n"
          ]
        },
        {
          "name": "stderr",
          "output_type": "stream",
          "text": [
            "\r 30%|███       | 15/50 [04:39<10:51, 18.60s/it]"
          ]
        },
        {
          "name": "stdout",
          "output_type": "stream",
          "text": [
            "Epoch 15/50, Train Loss: 0.8880, Validation Loss: 1.0401, Duration: 0:00:18.620130, Best Val Epoch: 4\n"
          ]
        },
        {
          "name": "stderr",
          "output_type": "stream",
          "text": [
            "\r 32%|███▏      | 16/50 [04:58<10:31, 18.58s/it]"
          ]
        },
        {
          "name": "stdout",
          "output_type": "stream",
          "text": [
            "Epoch 16/50, Train Loss: 0.8834, Validation Loss: 1.0353, Duration: 0:00:18.517339, Best Val Epoch: 4\n"
          ]
        },
        {
          "name": "stderr",
          "output_type": "stream",
          "text": [
            "\r 34%|███▍      | 17/50 [05:16<10:13, 18.58s/it]"
          ]
        },
        {
          "name": "stdout",
          "output_type": "stream",
          "text": [
            "Epoch 17/50, Train Loss: 0.8797, Validation Loss: 1.0419, Duration: 0:00:18.588152, Best Val Epoch: 4\n"
          ]
        },
        {
          "name": "stderr",
          "output_type": "stream",
          "text": [
            "\r 36%|███▌      | 18/50 [05:35<09:54, 18.57s/it]"
          ]
        },
        {
          "name": "stdout",
          "output_type": "stream",
          "text": [
            "Epoch 18/50, Train Loss: 0.8758, Validation Loss: 1.0391, Duration: 0:00:18.553253, Best Val Epoch: 4\n"
          ]
        },
        {
          "name": "stderr",
          "output_type": "stream",
          "text": [
            "\r 38%|███▊      | 19/50 [05:53<09:35, 18.57s/it]"
          ]
        },
        {
          "name": "stdout",
          "output_type": "stream",
          "text": [
            "Epoch 19/50, Train Loss: 0.8700, Validation Loss: 1.0417, Duration: 0:00:18.571881, Best Val Epoch: 4\n"
          ]
        },
        {
          "name": "stderr",
          "output_type": "stream",
          "text": [
            "\r 40%|████      | 20/50 [06:12<09:16, 18.55s/it]"
          ]
        },
        {
          "name": "stdout",
          "output_type": "stream",
          "text": [
            "Epoch 20/50, Train Loss: 0.8665, Validation Loss: 1.0475, Duration: 0:00:18.509297, Best Val Epoch: 4\n"
          ]
        },
        {
          "name": "stderr",
          "output_type": "stream",
          "text": [
            "\r 42%|████▏     | 21/50 [06:30<08:58, 18.56s/it]"
          ]
        },
        {
          "name": "stdout",
          "output_type": "stream",
          "text": [
            "Epoch 21/50, Train Loss: 0.8617, Validation Loss: 1.0537, Duration: 0:00:18.579144, Best Val Epoch: 4\n"
          ]
        },
        {
          "name": "stderr",
          "output_type": "stream",
          "text": [
            "\r 44%|████▍     | 22/50 [06:49<08:39, 18.55s/it]"
          ]
        },
        {
          "name": "stdout",
          "output_type": "stream",
          "text": [
            "Epoch 22/50, Train Loss: 0.8567, Validation Loss: 1.0619, Duration: 0:00:18.507790, Best Val Epoch: 4\n"
          ]
        },
        {
          "name": "stderr",
          "output_type": "stream",
          "text": [
            "\r 46%|████▌     | 23/50 [07:07<08:20, 18.54s/it]"
          ]
        },
        {
          "name": "stdout",
          "output_type": "stream",
          "text": [
            "Epoch 23/50, Train Loss: 0.8534, Validation Loss: 1.0602, Duration: 0:00:18.539433, Best Val Epoch: 4\n"
          ]
        },
        {
          "name": "stderr",
          "output_type": "stream",
          "text": [
            "\r 48%|████▊     | 24/50 [07:26<08:02, 18.55s/it]"
          ]
        },
        {
          "name": "stdout",
          "output_type": "stream",
          "text": [
            "Epoch 24/50, Train Loss: 0.8485, Validation Loss: 1.0611, Duration: 0:00:18.551662, Best Val Epoch: 4\n"
          ]
        },
        {
          "name": "stderr",
          "output_type": "stream",
          "text": [
            "\r 50%|█████     | 25/50 [07:45<07:43, 18.56s/it]"
          ]
        },
        {
          "name": "stdout",
          "output_type": "stream",
          "text": [
            "Epoch 25/50, Train Loss: 0.8449, Validation Loss: 1.0664, Duration: 0:00:18.583649, Best Val Epoch: 4\n"
          ]
        },
        {
          "name": "stderr",
          "output_type": "stream",
          "text": [
            "\r 52%|█████▏    | 26/50 [08:03<07:25, 18.57s/it]"
          ]
        },
        {
          "name": "stdout",
          "output_type": "stream",
          "text": [
            "Epoch 26/50, Train Loss: 0.8400, Validation Loss: 1.0705, Duration: 0:00:18.584530, Best Val Epoch: 4\n"
          ]
        },
        {
          "name": "stderr",
          "output_type": "stream",
          "text": [
            "\r 54%|█████▍    | 27/50 [08:22<07:07, 18.58s/it]"
          ]
        },
        {
          "name": "stdout",
          "output_type": "stream",
          "text": [
            "Epoch 27/50, Train Loss: 0.8366, Validation Loss: 1.0672, Duration: 0:00:18.604582, Best Val Epoch: 4\n"
          ]
        },
        {
          "name": "stderr",
          "output_type": "stream",
          "text": [
            "\r 56%|█████▌    | 28/50 [08:40<06:49, 18.62s/it]"
          ]
        },
        {
          "name": "stdout",
          "output_type": "stream",
          "text": [
            "Epoch 28/50, Train Loss: 0.8313, Validation Loss: 1.0882, Duration: 0:00:18.699013, Best Val Epoch: 4\n"
          ]
        },
        {
          "name": "stderr",
          "output_type": "stream",
          "text": [
            "\r 58%|█████▊    | 29/50 [08:59<06:31, 18.62s/it]"
          ]
        },
        {
          "name": "stdout",
          "output_type": "stream",
          "text": [
            "Epoch 29/50, Train Loss: 0.8267, Validation Loss: 1.0782, Duration: 0:00:18.642255, Best Val Epoch: 4\n"
          ]
        },
        {
          "name": "stderr",
          "output_type": "stream",
          "text": [
            "\r 60%|██████    | 30/50 [09:18<06:13, 18.68s/it]"
          ]
        },
        {
          "name": "stdout",
          "output_type": "stream",
          "text": [
            "Epoch 30/50, Train Loss: 0.8241, Validation Loss: 1.0819, Duration: 0:00:18.815108, Best Val Epoch: 4\n"
          ]
        },
        {
          "name": "stderr",
          "output_type": "stream",
          "text": [
            "\r 62%|██████▏   | 31/50 [09:37<05:54, 18.65s/it]"
          ]
        },
        {
          "name": "stdout",
          "output_type": "stream",
          "text": [
            "Epoch 31/50, Train Loss: 0.8171, Validation Loss: 1.0935, Duration: 0:00:18.581498, Best Val Epoch: 4\n"
          ]
        },
        {
          "name": "stderr",
          "output_type": "stream",
          "text": [
            "\r 64%|██████▍   | 32/50 [09:55<05:36, 18.69s/it]"
          ]
        },
        {
          "name": "stdout",
          "output_type": "stream",
          "text": [
            "Epoch 32/50, Train Loss: 0.8161, Validation Loss: 1.0978, Duration: 0:00:18.789525, Best Val Epoch: 4\n"
          ]
        },
        {
          "name": "stderr",
          "output_type": "stream",
          "text": [
            "\r 66%|██████▌   | 33/50 [10:14<05:17, 18.66s/it]"
          ]
        },
        {
          "name": "stdout",
          "output_type": "stream",
          "text": [
            "Epoch 33/50, Train Loss: 0.8094, Validation Loss: 1.1098, Duration: 0:00:18.567615, Best Val Epoch: 4\n"
          ]
        },
        {
          "name": "stderr",
          "output_type": "stream",
          "text": [
            "\r 68%|██████▊   | 34/50 [10:33<04:58, 18.66s/it]"
          ]
        },
        {
          "name": "stdout",
          "output_type": "stream",
          "text": [
            "Epoch 34/50, Train Loss: 0.8064, Validation Loss: 1.1005, Duration: 0:00:18.651840, Best Val Epoch: 4\n"
          ]
        },
        {
          "name": "stderr",
          "output_type": "stream",
          "text": [
            "\r 70%|███████   | 35/50 [10:51<04:39, 18.62s/it]"
          ]
        },
        {
          "name": "stdout",
          "output_type": "stream",
          "text": [
            "Epoch 35/50, Train Loss: 0.8010, Validation Loss: 1.1113, Duration: 0:00:18.549306, Best Val Epoch: 4\n"
          ]
        },
        {
          "name": "stderr",
          "output_type": "stream",
          "text": [
            "\r 72%|███████▏  | 36/50 [11:10<04:20, 18.62s/it]"
          ]
        },
        {
          "name": "stdout",
          "output_type": "stream",
          "text": [
            "Epoch 36/50, Train Loss: 0.7976, Validation Loss: 1.1206, Duration: 0:00:18.611232, Best Val Epoch: 4\n"
          ]
        },
        {
          "name": "stderr",
          "output_type": "stream",
          "text": [
            "\r 74%|███████▍  | 37/50 [11:28<04:01, 18.60s/it]"
          ]
        },
        {
          "name": "stdout",
          "output_type": "stream",
          "text": [
            "Epoch 37/50, Train Loss: 0.7928, Validation Loss: 1.1167, Duration: 0:00:18.562325, Best Val Epoch: 4\n"
          ]
        },
        {
          "name": "stderr",
          "output_type": "stream",
          "text": [
            "\r 76%|███████▌  | 38/50 [11:47<03:43, 18.61s/it]"
          ]
        },
        {
          "name": "stdout",
          "output_type": "stream",
          "text": [
            "Epoch 38/50, Train Loss: 0.7870, Validation Loss: 1.1299, Duration: 0:00:18.612197, Best Val Epoch: 4\n"
          ]
        },
        {
          "name": "stderr",
          "output_type": "stream",
          "text": [
            "\r 78%|███████▊  | 39/50 [12:06<03:25, 18.64s/it]"
          ]
        },
        {
          "name": "stdout",
          "output_type": "stream",
          "text": [
            "Epoch 39/50, Train Loss: 0.7851, Validation Loss: 1.1331, Duration: 0:00:18.707442, Best Val Epoch: 4\n"
          ]
        },
        {
          "name": "stderr",
          "output_type": "stream",
          "text": [
            "\r 80%|████████  | 40/50 [12:24<03:06, 18.67s/it]"
          ]
        },
        {
          "name": "stdout",
          "output_type": "stream",
          "text": [
            "Epoch 40/50, Train Loss: 0.7809, Validation Loss: 1.1427, Duration: 0:00:18.733107, Best Val Epoch: 4\n"
          ]
        },
        {
          "name": "stderr",
          "output_type": "stream",
          "text": [
            "\r 82%|████████▏ | 41/50 [12:43<02:48, 18.69s/it]"
          ]
        },
        {
          "name": "stdout",
          "output_type": "stream",
          "text": [
            "Epoch 41/50, Train Loss: 0.7755, Validation Loss: 1.1397, Duration: 0:00:18.744365, Best Val Epoch: 4\n"
          ]
        },
        {
          "name": "stderr",
          "output_type": "stream",
          "text": [
            "\r 84%|████████▍ | 42/50 [13:02<02:29, 18.67s/it]"
          ]
        },
        {
          "name": "stdout",
          "output_type": "stream",
          "text": [
            "Epoch 42/50, Train Loss: 0.7709, Validation Loss: 1.1448, Duration: 0:00:18.634994, Best Val Epoch: 4\n"
          ]
        },
        {
          "name": "stderr",
          "output_type": "stream",
          "text": [
            "\r 86%|████████▌ | 43/50 [13:20<02:10, 18.68s/it]"
          ]
        },
        {
          "name": "stdout",
          "output_type": "stream",
          "text": [
            "Epoch 43/50, Train Loss: 0.7653, Validation Loss: 1.1452, Duration: 0:00:18.698506, Best Val Epoch: 4\n"
          ]
        },
        {
          "name": "stderr",
          "output_type": "stream",
          "text": [
            "\r 88%|████████▊ | 44/50 [13:39<01:51, 18.64s/it]"
          ]
        },
        {
          "name": "stdout",
          "output_type": "stream",
          "text": [
            "Epoch 44/50, Train Loss: 0.7620, Validation Loss: 1.1616, Duration: 0:00:18.533114, Best Val Epoch: 4\n"
          ]
        },
        {
          "name": "stderr",
          "output_type": "stream",
          "text": [
            "\r 90%|█████████ | 45/50 [13:58<01:33, 18.64s/it]"
          ]
        },
        {
          "name": "stdout",
          "output_type": "stream",
          "text": [
            "Epoch 45/50, Train Loss: 0.7545, Validation Loss: 1.1618, Duration: 0:00:18.652810, Best Val Epoch: 4\n"
          ]
        },
        {
          "name": "stderr",
          "output_type": "stream",
          "text": [
            "\r 92%|█████████▏| 46/50 [14:16<01:14, 18.60s/it]"
          ]
        },
        {
          "name": "stdout",
          "output_type": "stream",
          "text": [
            "Epoch 46/50, Train Loss: 0.7523, Validation Loss: 1.1579, Duration: 0:00:18.503343, Best Val Epoch: 4\n"
          ]
        },
        {
          "name": "stderr",
          "output_type": "stream",
          "text": [
            "\r 94%|█████████▍| 47/50 [14:35<00:55, 18.61s/it]"
          ]
        },
        {
          "name": "stdout",
          "output_type": "stream",
          "text": [
            "Epoch 47/50, Train Loss: 0.7485, Validation Loss: 1.1747, Duration: 0:00:18.621271, Best Val Epoch: 4\n"
          ]
        },
        {
          "name": "stderr",
          "output_type": "stream",
          "text": [
            "\r 96%|█████████▌| 48/50 [14:53<00:37, 18.59s/it]"
          ]
        },
        {
          "name": "stdout",
          "output_type": "stream",
          "text": [
            "Epoch 48/50, Train Loss: 0.7439, Validation Loss: 1.1770, Duration: 0:00:18.552636, Best Val Epoch: 4\n"
          ]
        },
        {
          "name": "stderr",
          "output_type": "stream",
          "text": [
            "\r 98%|█████████▊| 49/50 [15:12<00:18, 18.60s/it]"
          ]
        },
        {
          "name": "stdout",
          "output_type": "stream",
          "text": [
            "Epoch 49/50, Train Loss: 0.7398, Validation Loss: 1.1885, Duration: 0:00:18.599581, Best Val Epoch: 4\n"
          ]
        },
        {
          "name": "stderr",
          "output_type": "stream",
          "text": [
            "100%|██████████| 50/50 [15:31<00:00, 18.62s/it]"
          ]
        },
        {
          "name": "stdout",
          "output_type": "stream",
          "text": [
            "Epoch 50/50, Train Loss: 0.7350, Validation Loss: 1.1980, Duration: 0:00:18.655155, Best Val Epoch: 4\n"
          ]
        },
        {
          "name": "stderr",
          "output_type": "stream",
          "text": [
            "\n"
          ]
        }
      ],
      "source": [
        "######### 3rd trial-2: earlystopping X\n",
        "train_losses, val_losses = batch_gd(model, criterion, optimizer,\n",
        "                                    train_loader, val_loader,\n",
        "                                    epochs=50)"
      ]
    },
    {
      "cell_type": "code",
      "execution_count": 17,
      "id": "ac0b83e6",
      "metadata": {
        "colab": {
          "base_uri": "https://localhost:8080/",
          "height": 297
        },
        "id": "ac0b83e6",
        "outputId": "f209424a-0a7f-48cc-9a51-67f19ba8c130"
      },
      "outputs": [
        {
          "data": {
            "text/plain": [
              "<matplotlib.legend.Legend at 0x7fc2b91d3150>"
            ]
          },
          "execution_count": 17,
          "metadata": {},
          "output_type": "execute_result"
        },
        {
          "data": {
            "image/png": "[encoded data removed]",
            "text/plain": [
              "<Figure size 1500x600 with 1 Axes>"
            ]
          },
          "metadata": {},
          "output_type": "display_data"
        }
      ],
      "source": [
        "plt.figure(figsize=(15,6))\n",
        "plt.plot(train_losses, label='train loss')\n",
        "plt.plot(val_losses, label='validation loss')\n",
        "plt.legend()"
      ]
    },
    {
      "cell_type": "markdown",
      "id": "8b43e88a",
      "metadata": {
        "id": "8b43e88a"
      },
      "source": [
        "# Model Testing"
      ]
    },
    {
      "cell_type": "code",
      "execution_count": 20,
      "id": "7216926e",
      "metadata": {
        "colab": {
          "base_uri": "https://localhost:8080/"
        },
        "id": "7216926e",
        "outputId": "f92ce2e1-0f92-4dc2-9b23-f8a29212c31c"
      },
      "outputs": [
        {
          "name": "stdout",
          "output_type": "stream",
          "text": [
            "Test Accuracy: 0.4106\n",
            "              precision    recall  f1-score   support\n",
            "\n",
            "        Down       0.39      0.36      0.37      4034\n",
            "        Same       0.45      0.43      0.44      2969\n",
            "          Up       0.41      0.44      0.42      4286\n",
            "\n",
            "    accuracy                           0.41     11289\n",
            "   macro avg       0.41      0.41      0.41     11289\n",
            "weighted avg       0.41      0.41      0.41     11289\n",
            "\n"
          ]
        }
      ],
      "source": [
        "from sklearn.metrics import classification_report, confusion_matrix\n",
        "import seaborn as sns\n",
        "import matplotlib.pyplot as plt\n",
        "import numpy as np\n",
        "\n",
        "model.eval()\n",
        "n_correct = 0\n",
        "n_total = 0\n",
        "all_targets = []\n",
        "all_predictions = []\n",
        "\n",
        "with torch.no_grad():\n",
        "    for inputs, targets in test_loader:\n",
        "        inputs, targets = inputs.to(device, dtype=torch.float), targets.to(device, dtype=torch.int64)\n",
        "        outputs = model(inputs)\n",
        "        _, preds = torch.max(outputs, 1)\n",
        "\n",
        "        n_correct += (preds == targets).sum().item()\n",
        "        n_total += targets.size(0)\n",
        "\n",
        "        all_targets.append(targets.cpu().numpy())\n",
        "        all_predictions.append(preds.cpu().numpy())\n",
        "\n",
        "# 정확도 출력\n",
        "test_acc = n_correct / n_total\n",
        "print(f\"Test Accuracy: {test_acc:.4f}\")\n",
        "\n",
        "# 정밀 분석\n",
        "all_targets = np.concatenate(all_targets)\n",
        "all_predictions = np.concatenate(all_predictions)\n",
        "\n",
        "print(classification_report(all_targets, all_predictions, target_names=[\"Down\", \"Same\", \"Up\"]))\n",
        "\n",
        "\n"
      ]
    },
    {
      "cell_type": "code",
      "execution_count": null,
      "id": "55c2d7f4",
      "metadata": {
        "id": "55c2d7f4"
      },
      "outputs": [],
      "source": []
    },
    {
      "cell_type": "code",
      "execution_count": null,
      "id": "fdb2e2c7",
      "metadata": {
        "id": "fdb2e2c7"
      },
      "outputs": [],
      "source": []
    }
  ],
  "metadata": {
    "accelerator": "GPU",
    "colab": {
      "gpuType": "T4",
      "provenance": []
    },
    "kernelspec": {
      "display_name": "Python 3",
      "name": "python3"
    },
    "language_info": {
      "codemirror_mode": {
        "name": "ipython",
        "version": 3
      },
      "file_extension": ".py",
      "mimetype": "text/x-python",
      "name": "python",
      "nbconvert_exporter": "python",
      "pygments_lexer": "ipython3",
      "version": "3.9.13"
    }
  },
  "nbformat": 4,
  "nbformat_minor": 5
}
